{
 "cells": [
  {
   "cell_type": "markdown",
   "id": "e3d7155e",
   "metadata": {},
   "source": [
    "## Importing Libraries"
   ]
  },
  {
   "cell_type": "code",
   "execution_count": 1,
   "id": "463ac2be",
   "metadata": {},
   "outputs": [],
   "source": [
    "import numpy as np\n",
    "import matplotlib.pyplot as plt\n",
    "import pandas as pd\n",
    "\n",
    "import re\n",
    "import nltk\n",
    "\n",
    "from nltk.corpus import stopwords\n",
    "from nltk.stem.porter import PorterStemmer\n",
    "from nltk.stem import WordNetLemmatizer"
   ]
  },
  {
   "cell_type": "markdown",
   "id": "be8d76c0",
   "metadata": {},
   "source": [
    "## Importing Dataset"
   ]
  },
  {
   "cell_type": "code",
   "execution_count": 2,
   "id": "c84a95ad",
   "metadata": {
    "scrolled": true
   },
   "outputs": [
    {
     "data": {
      "text/html": [
       "<div>\n",
       "<style scoped>\n",
       "    .dataframe tbody tr th:only-of-type {\n",
       "        vertical-align: middle;\n",
       "    }\n",
       "\n",
       "    .dataframe tbody tr th {\n",
       "        vertical-align: top;\n",
       "    }\n",
       "\n",
       "    .dataframe thead th {\n",
       "        text-align: right;\n",
       "    }\n",
       "</style>\n",
       "<table border=\"1\" class=\"dataframe\">\n",
       "  <thead>\n",
       "    <tr style=\"text-align: right;\">\n",
       "      <th></th>\n",
       "      <th>text</th>\n",
       "      <th>label</th>\n",
       "    </tr>\n",
       "  </thead>\n",
       "  <tbody>\n",
       "    <tr>\n",
       "      <th>0</th>\n",
       "      <td>I grew up (b. 1965) watching and loving the Th...</td>\n",
       "      <td>0</td>\n",
       "    </tr>\n",
       "    <tr>\n",
       "      <th>1</th>\n",
       "      <td>When I put this movie in my DVD player, and sa...</td>\n",
       "      <td>0</td>\n",
       "    </tr>\n",
       "    <tr>\n",
       "      <th>2</th>\n",
       "      <td>Why do people who do not know what a particula...</td>\n",
       "      <td>0</td>\n",
       "    </tr>\n",
       "    <tr>\n",
       "      <th>3</th>\n",
       "      <td>Even though I have great interest in Biblical ...</td>\n",
       "      <td>0</td>\n",
       "    </tr>\n",
       "    <tr>\n",
       "      <th>4</th>\n",
       "      <td>Im a die hard Dads Army fan and nothing will e...</td>\n",
       "      <td>1</td>\n",
       "    </tr>\n",
       "  </tbody>\n",
       "</table>\n",
       "</div>"
      ],
      "text/plain": [
       "                                                text  label\n",
       "0  I grew up (b. 1965) watching and loving the Th...      0\n",
       "1  When I put this movie in my DVD player, and sa...      0\n",
       "2  Why do people who do not know what a particula...      0\n",
       "3  Even though I have great interest in Biblical ...      0\n",
       "4  Im a die hard Dads Army fan and nothing will e...      1"
      ]
     },
     "execution_count": 2,
     "metadata": {},
     "output_type": "execute_result"
    }
   ],
   "source": [
    "dataset = pd.read_csv('movie.csv')\n",
    "X = dataset['text']\n",
    "y = dataset.iloc[:1000, -1]\n",
    "dataset.head()"
   ]
  },
  {
   "cell_type": "markdown",
   "id": "066e9642",
   "metadata": {},
   "source": [
    "## Preprocessing"
   ]
  },
  {
   "cell_type": "code",
   "execution_count": 3,
   "id": "136d2e50",
   "metadata": {},
   "outputs": [],
   "source": [
    "all_stopwords = stopwords.words('english')\n",
    "def preprocessing(review):\n",
    "    review = re.sub('[^a-zA-Z]', ' ', review) # Anything in the review that's not a alphabet becomes ' ' (space)\n",
    "    \n",
    "    # Converting review into lowercase\n",
    "    review = review.lower()\n",
    "    \n",
    "    review = review.split() # Splitting\n",
    "    \n",
    "    # Removing Stopwords\n",
    "    review = [word for word in review if not word in set(all_stopwords)]\n",
    "    \n",
    "    # Lemmatizing (Advance Stemming)\n",
    "    lm = WordNetLemmatizer()\n",
    "    review = [lm.lemmatize(word) for word in review]\n",
    "    \n",
    "    review = ' '.join(review) # Merging\n",
    "    \n",
    "    return review"
   ]
  },
  {
   "cell_type": "markdown",
   "id": "8c5b1ac6",
   "metadata": {},
   "source": [
    "### Creating Bag of Words"
   ]
  },
  {
   "cell_type": "code",
   "execution_count": 4,
   "id": "5c39af25",
   "metadata": {},
   "outputs": [],
   "source": [
    "corpus = []\n",
    "for i in range(0, 1000):\n",
    "    review = preprocessing(X[i])\n",
    "    corpus.append(review)"
   ]
  },
  {
   "cell_type": "code",
   "execution_count": 5,
   "id": "a214c7ef",
   "metadata": {},
   "outputs": [
    {
     "data": {
      "text/plain": [
       "['grew b watching loving thunderbird mate school watched played thunderbird school lunch school wanted virgil scott one wanted alan counting became art form took child see movie hoping would get glimpse loved child bitterly disappointing high point snappy theme tune could compare original score thunderbird thankfully early saturday morning one television channel still play rerun series gerry anderson wife created jonatha frakes hand director chair version completely hopeless waste film utter rubbish cgi remake may acceptable replacing marionette homo sapiens subsp sapiens huge error judgment',\n",
       " 'put movie dvd player sat coke chip expectation hoping movie would contain strong point first movie awsome animation good flowing story excellent voice cast funny comedy kick as soundtrack disappointment found atlantis milo return read review first might let following paragraph directed seen first movie enjoyed primarily point mentioned br br first scene appears shock picked atlantis milo return display case local videoshop whatever expectation music feel bad imitation first movie voice cast replaced fitting one exception character like voice sweet actual drawing isnt bad animation particular sad sight storyline also pretty weak like three episode schooby doo single adventurous story got last time dont misunderstand good schooby doo episode didnt laugh single time although might sniggered twice br br audience seen first movie especially care similar sequel fast review movie stand alone product liked schooby doo might like movie could still enjoy movie nothing else suspect might good kid movie know might better milo return three episode series cartoon channel breakfast tv']"
      ]
     },
     "execution_count": 5,
     "metadata": {},
     "output_type": "execute_result"
    }
   ],
   "source": [
    "corpus[:2]"
   ]
  },
  {
   "cell_type": "markdown",
   "id": "5e7cd97e",
   "metadata": {},
   "source": [
    "## Vectorization"
   ]
  },
  {
   "cell_type": "code",
   "execution_count": 6,
   "id": "ea1b418e",
   "metadata": {},
   "outputs": [],
   "source": [
    "from sklearn.feature_extraction.text import CountVectorizer\n",
    "def vectorize(corpus):\n",
    "    cv = CountVectorizer()\n",
    "    X = cv.fit_transform(corpus).toarray()\n",
    "    return X"
   ]
  },
  {
   "cell_type": "code",
   "execution_count": 7,
   "id": "27cefd24",
   "metadata": {},
   "outputs": [],
   "source": [
    "X = vectorize(corpus)"
   ]
  },
  {
   "cell_type": "markdown",
   "id": "dab43961",
   "metadata": {},
   "source": [
    "## Splitting into training and testing data"
   ]
  },
  {
   "cell_type": "code",
   "execution_count": 8,
   "id": "5cfbba32",
   "metadata": {},
   "outputs": [],
   "source": [
    "from sklearn.model_selection import train_test_split\n",
    "X_train, X_test, y_train, y_test = train_test_split(X, y, test_size = 0.25, random_state = 0)"
   ]
  },
  {
   "cell_type": "markdown",
   "id": "24c4318e",
   "metadata": {},
   "source": [
    "## Model Creation: Logistic Regression"
   ]
  },
  {
   "cell_type": "code",
   "execution_count": 9,
   "id": "301b5995",
   "metadata": {},
   "outputs": [
    {
     "data": {
      "text/plain": [
       "LogisticRegression(random_state=0)"
      ]
     },
     "execution_count": 9,
     "metadata": {},
     "output_type": "execute_result"
    }
   ],
   "source": [
    "from sklearn.linear_model import LogisticRegression\n",
    "classifier = LogisticRegression(random_state = 0)\n",
    "classifier.fit(X_train, y_train)"
   ]
  },
  {
   "cell_type": "markdown",
   "id": "260902a2",
   "metadata": {},
   "source": [
    "## Testing test data"
   ]
  },
  {
   "cell_type": "code",
   "execution_count": 10,
   "id": "7d476132",
   "metadata": {
    "scrolled": false
   },
   "outputs": [
    {
     "data": {
      "text/plain": [
       "array([0, 0, 1, 0, 1, 1, 1, 1, 0, 0], dtype=int64)"
      ]
     },
     "execution_count": 10,
     "metadata": {},
     "output_type": "execute_result"
    }
   ],
   "source": [
    "y_pred = classifier.predict(X_test)\n",
    "y_pred[:10]"
   ]
  },
  {
   "cell_type": "markdown",
   "id": "3a3a6c05",
   "metadata": {},
   "source": [
    "## Analyzing Accuracy and Confusion matrix"
   ]
  },
  {
   "cell_type": "code",
   "execution_count": 11,
   "id": "c6b2cc1f",
   "metadata": {},
   "outputs": [
    {
     "name": "stdout",
     "output_type": "stream",
     "text": [
      "Logistic Regression \n",
      " [[107  29]\n",
      " [ 25  89]]\n",
      "78.4\n"
     ]
    }
   ],
   "source": [
    "from sklearn.metrics import confusion_matrix, accuracy_score\n",
    "cm = confusion_matrix(y_test, y_pred)\n",
    "\n",
    "print('Logistic Regression \\n', cm)\n",
    "print(accuracy_score(y_test, y_pred)*100)"
   ]
  },
  {
   "cell_type": "markdown",
   "id": "0c6234b6",
   "metadata": {},
   "source": [
    "# Predicting Random Reviews"
   ]
  },
  {
   "cell_type": "markdown",
   "id": "a1523ce7",
   "metadata": {},
   "source": [
    "Sample 1 (Negative): Oh my. It was like a High School drama class was given access to the GOT sets and allowed to act out their own little scripts.\n",
    "#Where were the characters? GONE! Wonderful characters. NOT THERE! Jon Snow was so bland as to be almost lobotomized. Bron, Sam, Davos, Sansa, Arya, Yara Greyjoy, Brienne - all sitting around in that nothing scene - it was like the actors were there, but no one had given them any lines for their characters; because all the characters had disappeared into some talent sucking ether.\n",
    "#To say the dialogue was like in a bad soap opera is too generous.\n",
    "#Clear D&D just wanted to get this over with. This series should have ended with Season 6.\n",
    "#So sad. So sad.\n",
    "\n",
    "Sample 2 (Positive): Varys visits Ned again in the dungeons and tells what Sansa did to save his life and advises him to accept the offer. Catelyn negotiates with the repulsive Lord Walder Frey the crossing of the river by Robb and his army and Frey accepts provided Arya and Robb marry with his children. Jon Snow receives a valuable sword from Mormont and lives a dilemma to make a choice of helping Robb or stay with the Night's Watch and to live with the consequences for the rest of his life. The infection in the wound of Drogo makes him weak and Daenerys summons the witch to heal him. She tells that a life must be sacrificed in exchange and she kills Drogo's horse. The Lannister army attacks Robb's army and discovers that Robb lured them, leaving only two thousand men behind, while eighteen thousand men have attacked Jaime's army and made him prisoner. Arya sees her father being brought chained in front of the crowd and falsely confessing his treason to save Sansa and Arya. However Joffrey betrays the deal and Ned is beheaded.\n",
    "#\"Baelor\" is so far, the best episode of \"Game of Thrones\". I would never expect the fate of Lord Eddard 'Ned' Stark. I do not believe that the witch is making a spell to heal Drogo since he slaughtered her people. My guess is that the life in exchange per Drogo's life will be his unborn child. Joffrey is probably the most despicable character so far. My vote is ten."
   ]
  },
  {
   "cell_type": "code",
   "execution_count": 12,
   "id": "ff4d22ba",
   "metadata": {},
   "outputs": [
    {
     "name": "stdout",
     "output_type": "stream",
     "text": [
      "Enter any review: Oh my. It was like a High School drama class was given access to the GOT sets and allowed to act out their own little scripts. #Where were the characters? GONE! Wonderful characters. NOT THERE! Jon Snow was so bland as to be almost lobotomized. Bron, Sam, Davos, Sansa, Arya, Yara Greyjoy, Brienne - all sitting around in that nothing scene - it was like the actors were there, but no one had given them any lines for their characters; because all the characters had disappeared into some talent sucking ether. #To say the dialogue was like in a bad soap opera is too generous. #Clear D&D just wanted to get this over with. This series should have ended with Season 6. #So sad. So sad.\n",
      "\n",
      "\n",
      "USER DID NOT LIKE IT\n"
     ]
    }
   ],
   "source": [
    "from random import randint\n",
    "y[1000] = randint(0, 1)\n",
    "corpus.append(preprocessing(input(\"Enter any review: \")))\n",
    "classifier.fit(vectorize(corpus), y)\n",
    "sample = []\n",
    "sample.append(vectorize(corpus)[-1])\n",
    "prediction = classifier.predict(sample)\n",
    "print('')\n",
    "print('')\n",
    "print(\"USER LIKED IT\") if prediction[0] else print(\"USER DID NOT LIKE IT\")\n",
    "corpus.pop()\n",
    "y = y[:1000]"
   ]
  }
 ],
 "metadata": {
  "kernelspec": {
   "display_name": "Python 3",
   "language": "python",
   "name": "python3"
  },
  "language_info": {
   "codemirror_mode": {
    "name": "ipython",
    "version": 3
   },
   "file_extension": ".py",
   "mimetype": "text/x-python",
   "name": "python",
   "nbconvert_exporter": "python",
   "pygments_lexer": "ipython3",
   "version": "3.9.6"
  }
 },
 "nbformat": 4,
 "nbformat_minor": 5
}
